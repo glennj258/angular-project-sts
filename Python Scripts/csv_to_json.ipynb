{
 "cells": [
  {
   "cell_type": "markdown",
   "metadata": {},
   "source": [
    "## converts a csv file to a json format"
   ]
  },
  {
   "cell_type": "code",
   "execution_count": 1,
   "metadata": {},
   "outputs": [],
   "source": [
    "import pandas as pd"
   ]
  },
  {
   "cell_type": "code",
   "execution_count": 24,
   "metadata": {},
   "outputs": [],
   "source": [
    "filename = \"Totals_emissions_economics.csv\"\n",
    "input_file = \"/Users/glennjames/Documents/GitHub/angular-project-sts/Python Scripts/Honours Results Data/Mode Increase Effects/Totals_emissions_economics.csv\""
   ]
  },
  {
   "cell_type": "code",
   "execution_count": 29,
   "metadata": {},
   "outputs": [
    {
     "data": {
      "text/html": [
       "<div>\n",
       "<style scoped>\n",
       "    .dataframe tbody tr th:only-of-type {\n",
       "        vertical-align: middle;\n",
       "    }\n",
       "\n",
       "    .dataframe tbody tr th {\n",
       "        vertical-align: top;\n",
       "    }\n",
       "\n",
       "    .dataframe thead th {\n",
       "        text-align: right;\n",
       "    }\n",
       "</style>\n",
       "<table border=\"1\" class=\"dataframe\">\n",
       "  <thead>\n",
       "    <tr style=\"text-align: right;\">\n",
       "      <th></th>\n",
       "      <th>Outcome</th>\n",
       "      <th>no_change</th>\n",
       "      <th>actual</th>\n",
       "      <th>equal_dev</th>\n",
       "      <th>greenfield</th>\n",
       "      <th>md_inis</th>\n",
       "      <th>tod_infill</th>\n",
       "    </tr>\n",
       "  </thead>\n",
       "  <tbody>\n",
       "    <tr>\n",
       "      <th>0</th>\n",
       "      <td>Economics ($M per year)</td>\n",
       "      <td>0</td>\n",
       "      <td>30.542228</td>\n",
       "      <td>23.135145</td>\n",
       "      <td>15.512895</td>\n",
       "      <td>34.817872</td>\n",
       "      <td>35.618419</td>\n",
       "    </tr>\n",
       "    <tr>\n",
       "      <th>1</th>\n",
       "      <td>Emissions (kt CO2 per year)</td>\n",
       "      <td>0</td>\n",
       "      <td>-16.118041</td>\n",
       "      <td>-11.973215</td>\n",
       "      <td>-8.154440</td>\n",
       "      <td>-18.371852</td>\n",
       "      <td>-18.523975</td>\n",
       "    </tr>\n",
       "  </tbody>\n",
       "</table>\n",
       "</div>"
      ],
      "text/plain": [
       "                       Outcome  no_change     actual  equal_dev  greenfield  \\\n",
       "0      Economics ($M per year)          0  30.542228  23.135145   15.512895   \n",
       "1  Emissions (kt CO2 per year)          0 -16.118041 -11.973215   -8.154440   \n",
       "\n",
       "     md_inis  tod_infill  \n",
       "0  34.817872   35.618419  \n",
       "1 -18.371852  -18.523975  "
      ]
     },
     "execution_count": 29,
     "metadata": {},
     "output_type": "execute_result"
    }
   ],
   "source": [
    "df = pd.read_csv(input_file)\n",
    "df"
   ]
  },
  {
   "cell_type": "code",
   "execution_count": 22,
   "metadata": {},
   "outputs": [
    {
     "data": {
      "text/html": [
       "<div>\n",
       "<style scoped>\n",
       "    .dataframe tbody tr th:only-of-type {\n",
       "        vertical-align: middle;\n",
       "    }\n",
       "\n",
       "    .dataframe tbody tr th {\n",
       "        vertical-align: top;\n",
       "    }\n",
       "\n",
       "    .dataframe thead th {\n",
       "        text-align: right;\n",
       "    }\n",
       "</style>\n",
       "<table border=\"1\" class=\"dataframe\">\n",
       "  <thead>\n",
       "    <tr style=\"text-align: right;\">\n",
       "      <th></th>\n",
       "      <th>Unnamed: 1</th>\n",
       "      <th>actual</th>\n",
       "      <th>equal_dev</th>\n",
       "      <th>greenfield</th>\n",
       "      <th>md_inis</th>\n",
       "      <th>tod_infill</th>\n",
       "    </tr>\n",
       "    <tr>\n",
       "      <th>Unnamed: 0</th>\n",
       "      <th></th>\n",
       "      <th></th>\n",
       "      <th></th>\n",
       "      <th></th>\n",
       "      <th></th>\n",
       "      <th></th>\n",
       "    </tr>\n",
       "  </thead>\n",
       "  <tbody>\n",
       "    <tr>\n",
       "      <th>Economics ($M per year)</th>\n",
       "      <td>0</td>\n",
       "      <td>30.542228</td>\n",
       "      <td>23.135145</td>\n",
       "      <td>15.512895</td>\n",
       "      <td>34.817872</td>\n",
       "      <td>35.618419</td>\n",
       "    </tr>\n",
       "    <tr>\n",
       "      <th>Emissions (kt CO2 per year)</th>\n",
       "      <td>0</td>\n",
       "      <td>-16.118041</td>\n",
       "      <td>-11.973215</td>\n",
       "      <td>-8.154440</td>\n",
       "      <td>-18.371852</td>\n",
       "      <td>-18.523975</td>\n",
       "    </tr>\n",
       "  </tbody>\n",
       "</table>\n",
       "</div>"
      ],
      "text/plain": [
       "                             Unnamed: 1     actual  equal_dev  greenfield  \\\n",
       "Unnamed: 0                                                                  \n",
       "Economics ($M per year)               0  30.542228  23.135145   15.512895   \n",
       "Emissions (kt CO2 per year)           0 -16.118041 -11.973215   -8.154440   \n",
       "\n",
       "                               md_inis  tod_infill  \n",
       "Unnamed: 0                                          \n",
       "Economics ($M per year)      34.817872   35.618419  \n",
       "Emissions (kt CO2 per year) -18.371852  -18.523975  "
      ]
     },
     "execution_count": 22,
     "metadata": {},
     "output_type": "execute_result"
    }
   ],
   "source": [
    "df"
   ]
  },
  {
   "cell_type": "code",
   "execution_count": 31,
   "metadata": {},
   "outputs": [],
   "source": [
    "# Write DataFrame to JSON file\n",
    "json_file_path = 'Totals_emissions_economics.json'\n",
    "df.to_json(json_file_path, orient='records', indent=2)"
   ]
  },
  {
   "cell_type": "code",
   "execution_count": null,
   "metadata": {},
   "outputs": [],
   "source": []
  }
 ],
 "metadata": {
  "kernelspec": {
   "display_name": "Python 3",
   "language": "python",
   "name": "python3"
  },
  "language_info": {
   "codemirror_mode": {
    "name": "ipython",
    "version": 3
   },
   "file_extension": ".py",
   "mimetype": "text/x-python",
   "name": "python",
   "nbconvert_exporter": "python",
   "pygments_lexer": "ipython3",
   "version": "3.9.6"
  }
 },
 "nbformat": 4,
 "nbformat_minor": 2
}
