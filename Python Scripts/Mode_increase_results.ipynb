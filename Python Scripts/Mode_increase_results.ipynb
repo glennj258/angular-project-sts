{
 "cells": [
  {
   "cell_type": "markdown",
   "metadata": {},
   "source": [
    "# Mode Increase and effects results\n",
    "Get and combine relavant results for the mode increase, emissions and economic effects from honours development scenarios\n",
    "\n",
    "We want:\n",
    "\n",
    "- resulting mode share under each development scenario\n",
    "\n",
    "- total emissions and economic effects under each scenario (we have these already)"
   ]
  },
  {
   "cell_type": "code",
   "execution_count": 4,
   "metadata": {},
   "outputs": [],
   "source": [
    "import numpy as np\n",
    "import pandas as pd"
   ]
  },
  {
   "cell_type": "markdown",
   "metadata": {},
   "source": [
    "### Main code"
   ]
  },
  {
   "cell_type": "code",
   "execution_count": 6,
   "metadata": {},
   "outputs": [],
   "source": [
    "## read in the required data\n",
    "MI_all = pd.read_csv(\"Honours Results Data/MI_all_shape.csv\")"
   ]
  },
  {
   "cell_type": "code",
   "execution_count": 7,
   "metadata": {},
   "outputs": [
    {
     "data": {
      "text/plain": [
       "Index(['Unnamed: 0', 'OBJECTID', 'mb_code21', 'person', 'population_density',\n",
       "       'cycle_gc_actual_access', 'cycle_gc_equal_dev_access',\n",
       "       'cycle_gc_greenfield_access', 'cycle_gc_md_inis_access',\n",
       "       'cycle_gc_tod_infill_access',\n",
       "       ...\n",
       "       'mi_mb_equal_dev_cycle_combined', 'mi_mb_greenfield_cycle_combined',\n",
       "       'mi_mb_md_inis_cycle_combined', 'mi_mb_tod_infill_cycle_combined',\n",
       "       'mi_mb_actual_walk_combined', 'mi_mb_equal_dev_walk_combined',\n",
       "       'mi_mb_greenfield_walk_combined', 'mi_mb_md_inis_walk_combined',\n",
       "       'mi_mb_tod_infill_walk_combined', 'SHAPE'],\n",
       "      dtype='object', length=481)"
      ]
     },
     "execution_count": 7,
     "metadata": {},
     "output_type": "execute_result"
    }
   ],
   "source": [
    "MI_all.columns"
   ]
  },
  {
   "cell_type": "code",
   "execution_count": null,
   "metadata": {},
   "outputs": [],
   "source": [
    "## need to get all the current mode shares by SA3 - should these be done by trip or by distance\n",
    "# trip will favour sustainable transport modes\n",
    "# what did we use to combine the measures? - check thesis - done by km - is this accurate?\n",
    "\n",
    "# for a switch from car to STM - many car kilometers are lost, and only a few km in STS gained \n",
    "# if you have an increase in accessibility, you now don't have to go as far\n"
   ]
  },
  {
   "cell_type": "markdown",
   "metadata": {},
   "source": [
    "#### What does a shift from Belconnen-like distribution to an Inner North like distribution look like \n",
    "\n",
    "e.g. per (/100000people?)\n",
    "\n",
    "E.g. mode shift and km shift"
   ]
  },
  {
   "cell_type": "code",
   "execution_count": 8,
   "metadata": {},
   "outputs": [],
   "source": [
    "belc21_pop = 106061\n",
    "IN21_pop = 61188"
   ]
  },
  {
   "cell_type": "code",
   "execution_count": 9,
   "metadata": {},
   "outputs": [
    {
     "data": {
      "text/plain": [
       "12.041576779760737"
      ]
     },
     "execution_count": 9,
     "metadata": {},
     "output_type": "execute_result"
    }
   ],
   "source": [
    "# do km per person\n",
    "# cars\n",
    "736800/IN21_pop"
   ]
  },
  {
   "cell_type": "code",
   "execution_count": 10,
   "metadata": {},
   "outputs": [
    {
     "data": {
      "text/plain": [
       "17.79636247065368"
      ]
     },
     "execution_count": 10,
     "metadata": {},
     "output_type": "execute_result"
    }
   ],
   "source": [
    "1887500/belc21_pop"
   ]
  },
  {
   "cell_type": "code",
   "execution_count": 11,
   "metadata": {},
   "outputs": [
    {
     "data": {
      "text/plain": [
       "0.9511668954696999"
      ]
     },
     "execution_count": 11,
     "metadata": {},
     "output_type": "execute_result"
    }
   ],
   "source": [
    "# walking\n",
    "58200/IN21_pop"
   ]
  },
  {
   "cell_type": "code",
   "execution_count": 12,
   "metadata": {},
   "outputs": [
    {
     "data": {
      "text/plain": [
       "0.5015981369212057"
      ]
     },
     "execution_count": 12,
     "metadata": {},
     "output_type": "execute_result"
    }
   ],
   "source": [
    "53200/belc21_pop"
   ]
  },
  {
   "cell_type": "code",
   "execution_count": 21,
   "metadata": {},
   "outputs": [
    {
     "data": {
      "text/plain": [
       "0.2582205661240766"
      ]
     },
     "execution_count": 21,
     "metadata": {},
     "output_type": "execute_result"
    }
   ],
   "source": [
    "# cycling\n",
    "15800/IN21_pop"
   ]
  },
  {
   "cell_type": "code",
   "execution_count": 24,
   "metadata": {},
   "outputs": [
    {
     "data": {
      "text/plain": [
       "0.3299987742902669"
      ]
     },
     "execution_count": 24,
     "metadata": {},
     "output_type": "execute_result"
    }
   ],
   "source": [
    "# cycling\n",
    "35000/belc21_pop"
   ]
  },
  {
   "cell_type": "code",
   "execution_count": 14,
   "metadata": {},
   "outputs": [
    {
     "data": {
      "text/plain": [
       "1.2132000000000003"
      ]
     },
     "execution_count": 14,
     "metadata": {},
     "output_type": "execute_result"
    }
   ],
   "source": [
    "# compare stats change from belconnen to inner north\n",
    "\n",
    "# average person in the inner north drives 12km and walks 0.95km each day, how much do they save per day compared to the average belconnenite\n",
    "walk_from_car_econ = (12.04-17.80)*(-0.17) + (0.95-0.50)*0.52\n",
    "walk_from_car_econ"
   ]
  },
  {
   "cell_type": "code",
   "execution_count": 1,
   "metadata": {},
   "outputs": [
    {
     "data": {
      "text/plain": [
       "70.8392"
      ]
     },
     "execution_count": 1,
     "metadata": {},
     "output_type": "execute_result"
    }
   ],
   "source": [
    "int(1.213*160000)*365/1000000"
   ]
  },
  {
   "cell_type": "code",
   "execution_count": null,
   "metadata": {},
   "outputs": [],
   "source": []
  }
 ],
 "metadata": {
  "kernelspec": {
   "display_name": "Python 3",
   "language": "python",
   "name": "python3"
  },
  "language_info": {
   "codemirror_mode": {
    "name": "ipython",
    "version": 3
   },
   "file_extension": ".py",
   "mimetype": "text/x-python",
   "name": "python",
   "nbconvert_exporter": "python",
   "pygments_lexer": "ipython3",
   "version": "3.9.6"
  }
 },
 "nbformat": 4,
 "nbformat_minor": 2
}
